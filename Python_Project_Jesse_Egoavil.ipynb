{
 "cells": [
  {
   "cell_type": "markdown",
   "metadata": {},
   "source": [
    "# Python Code for Analyzing Glassdoor Data"
   ]
  },
  {
   "cell_type": "code",
   "execution_count": 1,
   "metadata": {},
   "outputs": [],
   "source": [
    "import pandas as pd\n",
    "import numpy as np\n",
    "from scipy import stats"
   ]
  },
  {
   "cell_type": "code",
   "execution_count": 2,
   "metadata": {},
   "outputs": [],
   "source": [
    "G= pd.read_csv('employee_reviews.csv', encoding='ISO-8859-1')"
   ]
  },
  {
   "cell_type": "code",
   "execution_count": 3,
   "metadata": {},
   "outputs": [],
   "source": [
    "G = G.rename(columns={'carrer-opportunities-stars': 'career-opportunities-stars', \\\n",
    "                      'senior-mangemnet-stars': 'senior-management-stars'})"
   ]
  },
  {
   "cell_type": "code",
   "execution_count": 4,
   "metadata": {},
   "outputs": [],
   "source": [
    "Gd= G.drop(['link', 'Unnamed: 0'], axis=1)"
   ]
  },
  {
   "cell_type": "code",
   "execution_count": 5,
   "metadata": {},
   "outputs": [],
   "source": [
    "Gd.iloc[[7819],2] = 'Feb 23, 2018'\n",
    "Gd.iloc[[28729],2]= 'Dec 26, 2017'\n",
    "Gd.iloc[[40862],2] = 'May 31, 2016'\n",
    "Gd.iloc[[36104],2] = 'Nov 30, 2015'"
   ]
  },
  {
   "cell_type": "code",
   "execution_count": 6,
   "metadata": {},
   "outputs": [],
   "source": [
    "time= Gd['dates']\n",
    "d=pd.to_datetime(time)\n",
    "e= d.to_frame(name= 'Date')"
   ]
  },
  {
   "cell_type": "code",
   "execution_count": 7,
   "metadata": {},
   "outputs": [],
   "source": [
    "G= pd.concat([Gd, e], axis=1)"
   ]
  },
  {
   "cell_type": "code",
   "execution_count": 8,
   "metadata": {},
   "outputs": [],
   "source": [
    "G= G.drop(G.columns[2], axis=1)"
   ]
  },
  {
   "cell_type": "code",
   "execution_count": 9,
   "metadata": {},
   "outputs": [],
   "source": [
    "G= G[['company','Date','location','job-title','summary', 'pros', 'cons', 'advice-to-mgmt','overall-ratings',\\\n",
    "      'work-balance-stars','culture-values-stars', 'career-opportunities-stars','comp-benefit-stars', \\\n",
    "      'senior-management-stars','helpful-count']]"
   ]
  },
  {
   "cell_type": "code",
   "execution_count": 10,
   "metadata": {},
   "outputs": [],
   "source": [
    "Gd= G.drop_duplicates()"
   ]
  },
  {
   "cell_type": "code",
   "execution_count": 11,
   "metadata": {},
   "outputs": [],
   "source": [
    "G= Gd.set_index('Date')"
   ]
  },
  {
   "cell_type": "code",
   "execution_count": 12,
   "metadata": {},
   "outputs": [],
   "source": [
    "G= G.loc['2013-01-01':'2018-12-11']"
   ]
  },
  {
   "cell_type": "code",
   "execution_count": 13,
   "metadata": {},
   "outputs": [],
   "source": [
    "G_test_corr= G[['overall-ratings','work-balance-stars', 'culture-values-stars', 'career-opportunities-stars', \\\n",
    "      'comp-benefit-stars', 'senior-management-stars','helpful-count']].replace('none', np.nan).astype(float)"
   ]
  },
  {
   "cell_type": "code",
   "execution_count": 14,
   "metadata": {},
   "outputs": [],
   "source": [
    "G_test_corr['work-balance-stars'].fillna(G_test_corr['overall-ratings'],inplace=True)\n",
    "G_test_corr['culture-values-stars'].fillna(G_test_corr['overall-ratings'],inplace=True)\n",
    "G_test_corr['career-opportunities-stars'].fillna(G_test_corr['overall-ratings'],inplace=True)\n",
    "G_test_corr['comp-benefit-stars'].fillna(G_test_corr['overall-ratings'],inplace=True)\n",
    "G_test_corr['senior-management-stars'].fillna(G_test_corr['overall-ratings'],inplace=True)"
   ]
  },
  {
   "cell_type": "code",
   "execution_count": 15,
   "metadata": {},
   "outputs": [],
   "source": [
    "G_nan= G[['overall-ratings','work-balance-stars', 'culture-values-stars', 'career-opportunities-stars', \\\n",
    "      'comp-benefit-stars', 'senior-management-stars','helpful-count']].replace('none', np.nan).astype(float)"
   ]
  },
  {
   "cell_type": "code",
   "execution_count": 16,
   "metadata": {},
   "outputs": [
    {
     "data": {
      "text/plain": [
       "overall-ratings               3.851710\n",
       "work-balance-stars            3.344743\n",
       "culture-values-stars          3.784831\n",
       "career-opportunities-stars    3.659050\n",
       "comp-benefit-stars            3.956338\n",
       "senior-management-stars       3.332540\n",
       "helpful-count                 1.196034\n",
       "dtype: float64"
      ]
     },
     "execution_count": 16,
     "metadata": {},
     "output_type": "execute_result"
    }
   ],
   "source": [
    "G_nan.mean()"
   ]
  },
  {
   "cell_type": "code",
   "execution_count": 17,
   "metadata": {},
   "outputs": [],
   "source": [
    "a= G_nan[['work-balance-stars']].fillna(3.3)\n",
    "b= G_nan[['culture-values-stars']].fillna(3.8)\n",
    "c= G_nan[['career-opportunities-stars']].fillna(3.7)\n",
    "d= G_nan[['comp-benefit-stars']].fillna(4.0)\n",
    "e= G_nan[['senior-management-stars']].fillna(3.3)\n",
    "g= [G_nan['overall-ratings'],a,b,c,d,e,G_nan['helpful-count']]\n",
    "G_avg=pd.concat(g, axis=1)"
   ]
  },
  {
   "cell_type": "code",
   "execution_count": 18,
   "metadata": {
    "scrolled": true
   },
   "outputs": [
    {
     "data": {
      "text/plain": [
       "Ttest_indResult(statistic=masked_array(data=[0.0, 8.919265032515916, 2.4290125742934454,\n",
       "                   4.450501403165371, -0.04123727191599822,\n",
       "                   9.760341613183419, 0.0],\n",
       "             mask=[False, False, False, False, False, False, False],\n",
       "       fill_value=1e+20), pvalue=masked_array(data=[1.00000000e+00, 4.76505529e-19, 1.51416433e-02,\n",
       "                   8.57557935e-06, 9.67106816e-01, 1.70242736e-22,\n",
       "                   1.00000000e+00],\n",
       "             mask=False,\n",
       "       fill_value=1e+20))"
      ]
     },
     "execution_count": 18,
     "metadata": {},
     "output_type": "execute_result"
    }
   ],
   "source": [
    "stats.ttest_ind(G_test_corr, G_nan, axis= 0, nan_policy='omit', equal_var=False)"
   ]
  },
  {
   "cell_type": "code",
   "execution_count": 19,
   "metadata": {
    "scrolled": true
   },
   "outputs": [
    {
     "data": {
      "text/plain": [
       "Ttest_indResult(statistic=masked_array(data=[0.0, -0.6785619159302032, 0.2451228686179789,\n",
       "                   0.6587661361865556, 0.8261540752375561,\n",
       "                   -0.5352023159165534, 0.0],\n",
       "             mask=[False, False, False, False, False, False, False],\n",
       "       fill_value=1e+20), pvalue=masked_array(data=[1.        , 0.49741696, 0.80636177, 0.51004739,\n",
       "                   0.40871856, 0.5925111 , 1.        ],\n",
       "             mask=False,\n",
       "       fill_value=1e+20))"
      ]
     },
     "execution_count": 19,
     "metadata": {},
     "output_type": "execute_result"
    }
   ],
   "source": [
    "stats.ttest_ind(G_avg, G_nan, axis= 0, nan_policy='omit', equal_var=False)"
   ]
  },
  {
   "cell_type": "code",
   "execution_count": 20,
   "metadata": {},
   "outputs": [],
   "source": [
    "G[['overall-ratings','work-balance-stars', 'culture-values-stars', 'career-opportunities-stars', \\\n",
    "   'comp-benefit-stars', 'senior-management-stars','helpful-count']] = \\\n",
    "G_avg[['overall-ratings','work-balance-stars', 'culture-values-stars', \\\n",
    "       'career-opportunities-stars', 'comp-benefit-stars', 'senior-management-stars','helpful-count']]"
   ]
  },
  {
   "cell_type": "code",
   "execution_count": 23,
   "metadata": {},
   "outputs": [],
   "source": [
    "G= G.drop(['summary', 'pros', 'cons', 'advice-to-mgmt'], axis=1)"
   ]
  },
  {
   "cell_type": "code",
   "execution_count": 34,
   "metadata": {},
   "outputs": [],
   "source": [
    "G= G.reset_index()"
   ]
  },
  {
   "cell_type": "code",
   "execution_count": 35,
   "metadata": {
    "collapsed": true
   },
   "outputs": [
    {
     "data": {
      "text/html": [
       "<div>\n",
       "<style scoped>\n",
       "    .dataframe tbody tr th:only-of-type {\n",
       "        vertical-align: middle;\n",
       "    }\n",
       "\n",
       "    .dataframe tbody tr th {\n",
       "        vertical-align: top;\n",
       "    }\n",
       "\n",
       "    .dataframe thead th {\n",
       "        text-align: right;\n",
       "    }\n",
       "</style>\n",
       "<table border=\"1\" class=\"dataframe\">\n",
       "  <thead>\n",
       "    <tr style=\"text-align: right;\">\n",
       "      <th></th>\n",
       "      <th>Date</th>\n",
       "      <th>company</th>\n",
       "      <th>location</th>\n",
       "      <th>job-title</th>\n",
       "      <th>overall-ratings</th>\n",
       "      <th>work-balance-stars</th>\n",
       "      <th>culture-values-stars</th>\n",
       "      <th>career-opportunities-stars</th>\n",
       "      <th>comp-benefit-stars</th>\n",
       "      <th>senior-management-stars</th>\n",
       "      <th>helpful-count</th>\n",
       "    </tr>\n",
       "  </thead>\n",
       "  <tbody>\n",
       "    <tr>\n",
       "      <th>0</th>\n",
       "      <td>2018-12-11</td>\n",
       "      <td>google</td>\n",
       "      <td>none</td>\n",
       "      <td>Current Employee - Anonymous Employee</td>\n",
       "      <td>5.0</td>\n",
       "      <td>4.0</td>\n",
       "      <td>5.0</td>\n",
       "      <td>5.0</td>\n",
       "      <td>4.0</td>\n",
       "      <td>5.0</td>\n",
       "      <td>0.0</td>\n",
       "    </tr>\n",
       "    <tr>\n",
       "      <th>1</th>\n",
       "      <td>2013-06-21</td>\n",
       "      <td>google</td>\n",
       "      <td>Mountain View, CA</td>\n",
       "      <td>Former Employee - Program Manager</td>\n",
       "      <td>4.0</td>\n",
       "      <td>2.0</td>\n",
       "      <td>3.0</td>\n",
       "      <td>3.0</td>\n",
       "      <td>5.0</td>\n",
       "      <td>3.0</td>\n",
       "      <td>2094.0</td>\n",
       "    </tr>\n",
       "    <tr>\n",
       "      <th>2</th>\n",
       "      <td>2014-05-10</td>\n",
       "      <td>google</td>\n",
       "      <td>New York, NY</td>\n",
       "      <td>Current Employee - Software Engineer III</td>\n",
       "      <td>5.0</td>\n",
       "      <td>5.0</td>\n",
       "      <td>4.0</td>\n",
       "      <td>5.0</td>\n",
       "      <td>5.0</td>\n",
       "      <td>4.0</td>\n",
       "      <td>949.0</td>\n",
       "    </tr>\n",
       "    <tr>\n",
       "      <th>3</th>\n",
       "      <td>2015-02-08</td>\n",
       "      <td>google</td>\n",
       "      <td>Mountain View, CA</td>\n",
       "      <td>Current Employee - Anonymous Employee</td>\n",
       "      <td>5.0</td>\n",
       "      <td>2.0</td>\n",
       "      <td>5.0</td>\n",
       "      <td>5.0</td>\n",
       "      <td>4.0</td>\n",
       "      <td>5.0</td>\n",
       "      <td>498.0</td>\n",
       "    </tr>\n",
       "    <tr>\n",
       "      <th>4</th>\n",
       "      <td>2018-07-19</td>\n",
       "      <td>google</td>\n",
       "      <td>Los Angeles, CA</td>\n",
       "      <td>Former Employee - Software Engineer</td>\n",
       "      <td>5.0</td>\n",
       "      <td>5.0</td>\n",
       "      <td>5.0</td>\n",
       "      <td>5.0</td>\n",
       "      <td>5.0</td>\n",
       "      <td>5.0</td>\n",
       "      <td>49.0</td>\n",
       "    </tr>\n",
       "    <tr>\n",
       "      <th>...</th>\n",
       "      <td>...</td>\n",
       "      <td>...</td>\n",
       "      <td>...</td>\n",
       "      <td>...</td>\n",
       "      <td>...</td>\n",
       "      <td>...</td>\n",
       "      <td>...</td>\n",
       "      <td>...</td>\n",
       "      <td>...</td>\n",
       "      <td>...</td>\n",
       "      <td>...</td>\n",
       "    </tr>\n",
       "    <tr>\n",
       "      <th>58286</th>\n",
       "      <td>2013-01-03</td>\n",
       "      <td>microsoft</td>\n",
       "      <td>none</td>\n",
       "      <td>Former Employee - Anonymous Employee</td>\n",
       "      <td>4.0</td>\n",
       "      <td>3.0</td>\n",
       "      <td>3.0</td>\n",
       "      <td>4.0</td>\n",
       "      <td>4.0</td>\n",
       "      <td>3.0</td>\n",
       "      <td>0.0</td>\n",
       "    </tr>\n",
       "    <tr>\n",
       "      <th>58287</th>\n",
       "      <td>2013-01-04</td>\n",
       "      <td>microsoft</td>\n",
       "      <td>none</td>\n",
       "      <td>Former Employee - Anonymous Employee</td>\n",
       "      <td>4.0</td>\n",
       "      <td>4.0</td>\n",
       "      <td>4.0</td>\n",
       "      <td>4.0</td>\n",
       "      <td>4.0</td>\n",
       "      <td>4.0</td>\n",
       "      <td>0.0</td>\n",
       "    </tr>\n",
       "    <tr>\n",
       "      <th>58288</th>\n",
       "      <td>2013-01-01</td>\n",
       "      <td>microsoft</td>\n",
       "      <td>Cairo (Egypt)</td>\n",
       "      <td>Current Employee - Freelancing</td>\n",
       "      <td>3.0</td>\n",
       "      <td>5.0</td>\n",
       "      <td>4.0</td>\n",
       "      <td>3.0</td>\n",
       "      <td>1.0</td>\n",
       "      <td>1.0</td>\n",
       "      <td>0.0</td>\n",
       "    </tr>\n",
       "    <tr>\n",
       "      <th>58289</th>\n",
       "      <td>2013-01-02</td>\n",
       "      <td>microsoft</td>\n",
       "      <td>none</td>\n",
       "      <td>Current Employee - Product Advisor</td>\n",
       "      <td>4.0</td>\n",
       "      <td>4.0</td>\n",
       "      <td>4.0</td>\n",
       "      <td>4.0</td>\n",
       "      <td>4.0</td>\n",
       "      <td>2.0</td>\n",
       "      <td>0.0</td>\n",
       "    </tr>\n",
       "    <tr>\n",
       "      <th>58290</th>\n",
       "      <td>2013-01-14</td>\n",
       "      <td>microsoft</td>\n",
       "      <td>none</td>\n",
       "      <td>Former Employee - Anonymous Employee</td>\n",
       "      <td>1.0</td>\n",
       "      <td>1.0</td>\n",
       "      <td>2.0</td>\n",
       "      <td>1.0</td>\n",
       "      <td>4.0</td>\n",
       "      <td>1.0</td>\n",
       "      <td>1.0</td>\n",
       "    </tr>\n",
       "  </tbody>\n",
       "</table>\n",
       "<p>58291 rows × 11 columns</p>\n",
       "</div>"
      ],
      "text/plain": [
       "            Date    company           location  \\\n",
       "0     2018-12-11     google               none   \n",
       "1     2013-06-21     google  Mountain View, CA   \n",
       "2     2014-05-10     google       New York, NY   \n",
       "3     2015-02-08     google  Mountain View, CA   \n",
       "4     2018-07-19     google    Los Angeles, CA   \n",
       "...          ...        ...                ...   \n",
       "58286 2013-01-03  microsoft               none   \n",
       "58287 2013-01-04  microsoft               none   \n",
       "58288 2013-01-01  microsoft      Cairo (Egypt)   \n",
       "58289 2013-01-02  microsoft               none   \n",
       "58290 2013-01-14  microsoft               none   \n",
       "\n",
       "                                      job-title  overall-ratings  \\\n",
       "0         Current Employee - Anonymous Employee              5.0   \n",
       "1             Former Employee - Program Manager              4.0   \n",
       "2      Current Employee - Software Engineer III              5.0   \n",
       "3         Current Employee - Anonymous Employee              5.0   \n",
       "4           Former Employee - Software Engineer              5.0   \n",
       "...                                         ...              ...   \n",
       "58286      Former Employee - Anonymous Employee              4.0   \n",
       "58287      Former Employee - Anonymous Employee              4.0   \n",
       "58288            Current Employee - Freelancing              3.0   \n",
       "58289        Current Employee - Product Advisor              4.0   \n",
       "58290      Former Employee - Anonymous Employee              1.0   \n",
       "\n",
       "       work-balance-stars  culture-values-stars  career-opportunities-stars  \\\n",
       "0                     4.0                   5.0                         5.0   \n",
       "1                     2.0                   3.0                         3.0   \n",
       "2                     5.0                   4.0                         5.0   \n",
       "3                     2.0                   5.0                         5.0   \n",
       "4                     5.0                   5.0                         5.0   \n",
       "...                   ...                   ...                         ...   \n",
       "58286                 3.0                   3.0                         4.0   \n",
       "58287                 4.0                   4.0                         4.0   \n",
       "58288                 5.0                   4.0                         3.0   \n",
       "58289                 4.0                   4.0                         4.0   \n",
       "58290                 1.0                   2.0                         1.0   \n",
       "\n",
       "       comp-benefit-stars  senior-management-stars  helpful-count  \n",
       "0                     4.0                      5.0            0.0  \n",
       "1                     5.0                      3.0         2094.0  \n",
       "2                     5.0                      4.0          949.0  \n",
       "3                     4.0                      5.0          498.0  \n",
       "4                     5.0                      5.0           49.0  \n",
       "...                   ...                      ...            ...  \n",
       "58286                 4.0                      3.0            0.0  \n",
       "58287                 4.0                      4.0            0.0  \n",
       "58288                 1.0                      1.0            0.0  \n",
       "58289                 4.0                      2.0            0.0  \n",
       "58290                 4.0                      1.0            1.0  \n",
       "\n",
       "[58291 rows x 11 columns]"
      ]
     },
     "execution_count": 35,
     "metadata": {},
     "output_type": "execute_result"
    }
   ],
   "source": [
    "G"
   ]
  },
  {
   "cell_type": "code",
   "execution_count": 46,
   "metadata": {
    "scrolled": true
   },
   "outputs": [],
   "source": [
    "A= G.groupby([pd.Grouper(key='Date',freq='Y'), 'company']).mean()"
   ]
  },
  {
   "cell_type": "code",
   "execution_count": null,
   "metadata": {},
   "outputs": [],
   "source": []
  }
 ],
 "metadata": {
  "kernelspec": {
   "display_name": "Python 3",
   "language": "python",
   "name": "python3"
  },
  "language_info": {
   "codemirror_mode": {
    "name": "ipython",
    "version": 3
   },
   "file_extension": ".py",
   "mimetype": "text/x-python",
   "name": "python",
   "nbconvert_exporter": "python",
   "pygments_lexer": "ipython3",
   "version": "3.8.5"
  }
 },
 "nbformat": 4,
 "nbformat_minor": 4
}
