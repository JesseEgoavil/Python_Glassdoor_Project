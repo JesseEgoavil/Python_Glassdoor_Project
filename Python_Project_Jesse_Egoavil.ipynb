{
 "cells": [
  {
   "cell_type": "markdown",
   "metadata": {},
   "source": [
    "# Python Code for Analyzing Glassdoor Data"
   ]
  },
  {
   "cell_type": "code",
   "execution_count": 5,
   "metadata": {},
   "outputs": [],
   "source": [
    "import pandas as pd\n",
    "import numpy as np\n",
    "from scipy import stats"
   ]
  },
  {
   "cell_type": "code",
   "execution_count": 6,
   "metadata": {},
   "outputs": [],
   "source": [
    "G= pd.read_csv('employee_reviews.csv', encoding='ISO-8859-1')"
   ]
  },
  {
   "cell_type": "markdown",
   "metadata": {},
   "source": [
    "Before anything, I need to decide what will I do with the \"none\" objects in my data. On Glassdoor, reviewers can ignore any of the ratings, except the overall rating. My options are to leave it as \"na\" and ignore the values or copy the overall ratings to the \"none\" objects. Overall ratings may be a better indicator of what those missing values might be rather than just ignoring them. I decided to make T-test and see if there is a difference between using them."
   ]
  },
  {
   "cell_type": "code",
   "execution_count": 7,
   "metadata": {},
   "outputs": [],
   "source": [
    "G_ovr= G[['overall-ratings','work-balance-stars', 'culture-values-stars', 'carrer-opportunities-stars', \\\n",
    "      'comp-benefit-stars', 'senior-mangemnet-stars','helpful-count']].replace('none', np.nan).astype(float)"
   ]
  },
  {
   "cell_type": "code",
   "execution_count": 8,
   "metadata": {},
   "outputs": [],
   "source": [
    "G_ovr['work-balance-stars'].fillna(G_ovr['overall-ratings'],inplace=True)\n",
    "G_ovr['culture-values-stars'].fillna(G_ovr['overall-ratings'],inplace=True)\n",
    "G_ovr['carrer-opportunities-stars'].fillna(G_ovr['overall-ratings'],inplace=True)\n",
    "G_ovr['comp-benefit-stars'].fillna(G_ovr['overall-ratings'],inplace=True)\n",
    "G_ovr['senior-mangemnet-stars'].fillna(G_ovr['overall-ratings'],inplace=True)"
   ]
  },
  {
   "cell_type": "code",
   "execution_count": 9,
   "metadata": {},
   "outputs": [],
   "source": [
    "G_nan= G[['overall-ratings','work-balance-stars', 'culture-values-stars', 'carrer-opportunities-stars', \\\n",
    "      'comp-benefit-stars', 'senior-mangemnet-stars','helpful-count']].replace('none', np.nan).astype(float)"
   ]
  },
  {
   "cell_type": "code",
   "execution_count": 10,
   "metadata": {},
   "outputs": [
    {
     "data": {
      "text/plain": [
       "Ttest_indResult(statistic=masked_array(data=[0.0, 8.329244622305506, -0.5100861707200497,\n",
       "                   4.723569370096835, 0.1391372807425222,\n",
       "                   9.669769122711893, 0.0],\n",
       "             mask=[False, False, False, False, False, False, False],\n",
       "       fill_value=1e+20), pvalue=masked_array(data=[1.00000000e+00, 8.21507067e-17, 6.09992020e-01,\n",
       "                   2.31986255e-06, 8.89341888e-01, 4.12458660e-22,\n",
       "                   1.00000000e+00],\n",
       "             mask=False,\n",
       "       fill_value=1e+20))"
      ]
     },
     "execution_count": 10,
     "metadata": {},
     "output_type": "execute_result"
    }
   ],
   "source": [
    "stats.ttest_ind(G_ovr, G_nan, nan_policy= 'omit')"
   ]
  },
  {
   "cell_type": "markdown",
   "metadata": {},
   "source": [
    "It looks like the highest p-value is .089341888 for one of the columns, but the lowest is 4.12458660e-22. I think it is safe to use overall ratings to replace the NaN values for the analysis."
   ]
  },
  {
   "cell_type": "markdown",
   "metadata": {},
   "source": [
    "I will proceed to clean the overall structure of the data."
   ]
  },
  {
   "cell_type": "code",
   "execution_count": 12,
   "metadata": {},
   "outputs": [],
   "source": [
    "G[['overall-ratings','work-balance-stars', 'culture-values-stars', 'carrer-opportunities-stars', \\\n",
    "   'comp-benefit-stars', 'senior-mangemnet-stars','helpful-count']] = \\\n",
    "G_ovr[['overall-ratings','work-balance-stars', 'culture-values-stars', \\\n",
    "       'carrer-opportunities-stars', 'comp-benefit-stars', 'senior-mangemnet-stars','helpful-count']]\n",
    "\n",
    "G=G.drop(['Unnamed: 0','link', 'summary', 'pros', 'cons', 'advice-to-mgmt'], axis=1)"
   ]
  },
  {
   "cell_type": "code",
   "execution_count": 13,
   "metadata": {},
   "outputs": [],
   "source": [
    "G = G.rename(columns={'carrer-opportunities-stars': 'career-opportunities-stars', \\\n",
    "                      'senior-mangemnet-stars': 'senior-management-stars'})"
   ]
  },
  {
   "cell_type": "code",
   "execution_count": null,
   "metadata": {},
   "outputs": [],
   "source": []
  }
 ],
 "metadata": {
  "kernelspec": {
   "display_name": "Python 3",
   "language": "python",
   "name": "python3"
  },
  "language_info": {
   "codemirror_mode": {
    "name": "ipython",
    "version": 3
   },
   "file_extension": ".py",
   "mimetype": "text/x-python",
   "name": "python",
   "nbconvert_exporter": "python",
   "pygments_lexer": "ipython3",
   "version": "3.8.5"
  }
 },
 "nbformat": 4,
 "nbformat_minor": 4
}
